{
 "cells": [
  {
   "cell_type": "code",
   "execution_count": 1,
   "metadata": {},
   "outputs": [],
   "source": [
    "# spark basic examples \n",
    "import pyspark\n",
    "\n"
   ]
  },
  {
   "cell_type": "code",
   "execution_count": 3,
   "metadata": {},
   "outputs": [],
   "source": [
    "# create a spark session\n",
    "spark = pyspark.sql.SparkSession.builder.getOrCreate()\n"
   ]
  },
  {
   "cell_type": "code",
   "execution_count": 4,
   "metadata": {},
   "outputs": [
    {
     "name": "stdout",
     "output_type": "stream",
     "text": [
      "+---+---+---+\n",
      "|  a|  b|  c|\n",
      "+---+---+---+\n",
      "|  1|  2|  3|\n",
      "|  4|  5|  6|\n",
      "|  7|  8|  9|\n",
      "+---+---+---+\n",
      "\n"
     ]
    }
   ],
   "source": [
    "\n",
    "# create a spark dataframe\n",
    "df = spark.createDataFrame([\n",
    "    (1, 2, 3),\n",
    "    (4, 5, 6),\n",
    "    (7, 8, 9)\n",
    "], ['a', 'b', 'c'])\n",
    "\n",
    "# show the dataframe\n",
    "df.show()\n"
   ]
  },
  {
   "cell_type": "code",
   "execution_count": 12,
   "metadata": {},
   "outputs": [
    {
     "name": "stdout",
     "output_type": "stream",
     "text": [
      "(150, 4)\n"
     ]
    },
    {
     "name": "stderr",
     "output_type": "stream",
     "text": [
      "/home/codespace/.python/current/lib/python3.10/site-packages/pyspark/sql/pandas/conversion.py:474: FutureWarning: iteritems is deprecated and will be removed in a future version. Use .items instead.\n",
      "  for column, series in pdf.iteritems():\n",
      "/home/codespace/.python/current/lib/python3.10/site-packages/pyspark/sql/pandas/conversion.py:486: FutureWarning: iteritems is deprecated and will be removed in a future version. Use .items instead.\n",
      "  for column, series in pdf.iteritems():\n"
     ]
    },
    {
     "name": "stdout",
     "output_type": "stream",
     "text": [
      "+-----------------+----------------+-----------------+----------------+\n",
      "|sepal length (cm)|sepal width (cm)|petal length (cm)|petal width (cm)|\n",
      "+-----------------+----------------+-----------------+----------------+\n",
      "|              5.1|             3.5|              1.4|             0.2|\n",
      "|              4.9|             3.0|              1.4|             0.2|\n",
      "|              4.7|             3.2|              1.3|             0.2|\n",
      "|              4.6|             3.1|              1.5|             0.2|\n",
      "|              5.0|             3.6|              1.4|             0.2|\n",
      "|              5.4|             3.9|              1.7|             0.4|\n",
      "|              4.6|             3.4|              1.4|             0.3|\n",
      "|              5.0|             3.4|              1.5|             0.2|\n",
      "|              4.4|             2.9|              1.4|             0.2|\n",
      "|              4.9|             3.1|              1.5|             0.1|\n",
      "|              5.4|             3.7|              1.5|             0.2|\n",
      "|              4.8|             3.4|              1.6|             0.2|\n",
      "|              4.8|             3.0|              1.4|             0.1|\n",
      "|              4.3|             3.0|              1.1|             0.1|\n",
      "|              5.8|             4.0|              1.2|             0.2|\n",
      "|              5.7|             4.4|              1.5|             0.4|\n",
      "|              5.4|             3.9|              1.3|             0.4|\n",
      "|              5.1|             3.5|              1.4|             0.3|\n",
      "|              5.7|             3.8|              1.7|             0.3|\n",
      "|              5.1|             3.8|              1.5|             0.3|\n",
      "+-----------------+----------------+-----------------+----------------+\n",
      "only showing top 20 rows\n",
      "\n"
     ]
    }
   ],
   "source": [
    "# download housing data from sklearn\n",
    "from sklearn.datasets import load_iris\n",
    "isris = load_iris()\n",
    "print(isris.data.shape)\n",
    "# load the data in pandas dataframe\n",
    "import pandas as pd\n",
    "dfpandas = pd.DataFrame(isris.data, columns=isris.feature_names)\n",
    "dfpandas.head()\n",
    "\n",
    "# load the data into a spark dataframe dfpandas\n",
    "df = spark.createDataFrame(dfpandas)\n",
    "df.show()\n"
   ]
  },
  {
   "cell_type": "code",
   "execution_count": 13,
   "metadata": {},
   "outputs": [
    {
     "name": "stderr",
     "output_type": "stream",
     "text": [
      "                                                                                \r"
     ]
    },
    {
     "name": "stdout",
     "output_type": "stream",
     "text": [
      "+-----------------+----------------+-----------------+----------------+\n",
      "|sepal length (cm)|sepal width (cm)|petal length (cm)|petal width (cm)|\n",
      "+-----------------+----------------+-----------------+----------------+\n",
      "|              6.6|             3.0|              4.4|             1.4|\n",
      "|              6.8|             2.8|              4.8|             1.4|\n",
      "|              6.7|             3.0|              5.0|             1.7|\n",
      "|              6.0|             2.9|              4.5|             1.5|\n",
      "|              5.7|             2.6|              3.5|             1.0|\n",
      "|              5.5|             2.4|              3.8|             1.1|\n",
      "|              5.5|             2.4|              3.7|             1.0|\n",
      "|              5.8|             2.7|              3.9|             1.2|\n",
      "|              6.0|             2.7|              5.1|             1.6|\n",
      "|              5.4|             3.0|              4.5|             1.5|\n",
      "|              6.0|             3.4|              4.5|             1.6|\n",
      "|              6.7|             3.1|              4.7|             1.5|\n",
      "|              6.3|             2.3|              4.4|             1.3|\n",
      "|              5.6|             3.0|              4.1|             1.3|\n",
      "|              5.5|             2.5|              4.0|             1.3|\n",
      "|              5.5|             2.6|              4.4|             1.2|\n",
      "|              6.1|             3.0|              4.6|             1.4|\n",
      "|              5.8|             2.6|              4.0|             1.2|\n",
      "|              5.0|             2.3|              3.3|             1.0|\n",
      "|              5.6|             2.7|              4.2|             1.3|\n",
      "+-----------------+----------------+-----------------+----------------+\n",
      "only showing top 20 rows\n",
      "\n"
     ]
    }
   ],
   "source": [
    "# store the df dataframe in a parquet file\n",
    "df.write.parquet('iris.parquet')\n",
    "\n",
    "# read the parquet file into a spark dataframe\n",
    "dfpar = spark.read.parquet('iris.parquet')\n",
    "dfpar.show()\n",
    "\n",
    "\n"
   ]
  },
  {
   "cell_type": "code",
   "execution_count": 19,
   "metadata": {},
   "outputs": [
    {
     "ename": "TypeError",
     "evalue": "DataFrameWriter.jdbc() missing 1 required positional argument: 'table'",
     "output_type": "error",
     "traceback": [
      "\u001b[0;31m---------------------------------------------------------------------------\u001b[0m",
      "\u001b[0;31mTypeError\u001b[0m                                 Traceback (most recent call last)",
      "Cell \u001b[0;32mIn[19], line 20\u001b[0m\n\u001b[1;32m     14\u001b[0m df\u001b[39m.\u001b[39mwrite\u001b[39m.\u001b[39morc(\u001b[39m'\u001b[39m\u001b[39miris.orc\u001b[39m\u001b[39m'\u001b[39m, mode\u001b[39m=\u001b[39m\u001b[39m'\u001b[39m\u001b[39moverwrite\u001b[39m\u001b[39m'\u001b[39m)\n\u001b[1;32m     16\u001b[0m \u001b[39m# create a avro file from the df dataframe\u001b[39;00m\n\u001b[1;32m     17\u001b[0m \u001b[39m#df.write.avro('iris.avro', mode='overwrite')\u001b[39;00m\n\u001b[1;32m     18\u001b[0m \n\u001b[1;32m     19\u001b[0m \u001b[39m# create a jdbc file from the df dataframe\u001b[39;00m\n\u001b[0;32m---> 20\u001b[0m df\u001b[39m.\u001b[39;49mwrite\u001b[39m.\u001b[39;49mjdbc(\u001b[39m'\u001b[39;49m\u001b[39miris.jdbc\u001b[39;49m\u001b[39m'\u001b[39;49m, mode\u001b[39m=\u001b[39;49m\u001b[39m'\u001b[39;49m\u001b[39moverwrite\u001b[39;49m\u001b[39m'\u001b[39;49m)\n\u001b[1;32m     22\u001b[0m \u001b[39m# create a table file from the df dataframe\u001b[39;00m\n\u001b[1;32m     23\u001b[0m df\u001b[39m.\u001b[39mwrite\u001b[39m.\u001b[39mtable(\u001b[39m'\u001b[39m\u001b[39miris.table\u001b[39m\u001b[39m'\u001b[39m, mode\u001b[39m=\u001b[39m\u001b[39m'\u001b[39m\u001b[39moverwrite\u001b[39m\u001b[39m'\u001b[39m)\n",
      "\u001b[0;31mTypeError\u001b[0m: DataFrameWriter.jdbc() missing 1 required positional argument: 'table'"
     ]
    }
   ],
   "source": [
    "# create a json file from the df dataframe overwriting the file\n",
    "df.write.json('iris.json', mode='overwrite')\n",
    "\n",
    "\n",
    "# create a csv file from the df dataframe\n",
    "df.write.csv('iris.csv', mode='overwrite')\n",
    "\n",
    "\n",
    "\n",
    "# create a parquet file from the df dataframe\n",
    "df.write.parquet('iris.parquet', mode='overwrite')\n",
    "\n",
    "# create a orc file from the df dataframe\n",
    "df.write.orc('iris.orc', mode='overwrite')\n",
    "\n",
    "# create a avro file from the df dataframe\n",
    "#df.write.avro('iris.avro', mode='overwrite')\n",
    "\n",
    "# create a jdbc file from the df dataframe\n",
    "df.write.jdbc('iris.jdbc', mode='overwrite')\n",
    "\n",
    "# create a table file from the df dataframe\n",
    "df.write.table('iris.table', mode='overwrite')\n",
    "\n",
    "# create a bucket file from the df dataframe\n",
    "df.write.bucketBy(42, 'iris.bucket')\n",
    "\n",
    "# create a saveAsTable file from the df dataframe\n",
    "df.write.saveAsTable('iris.saveAsTable')\n",
    "\n"
   ]
  },
  {
   "cell_type": "code",
   "execution_count": null,
   "metadata": {},
   "outputs": [],
   "source": [
    "# create a text file from the df dataframe\n",
    "df.write.text('iris.txt')"
   ]
  }
 ],
 "metadata": {
  "kernelspec": {
   "display_name": "Python 3",
   "language": "python",
   "name": "python3"
  },
  "language_info": {
   "codemirror_mode": {
    "name": "ipython",
    "version": 3
   },
   "file_extension": ".py",
   "mimetype": "text/x-python",
   "name": "python",
   "nbconvert_exporter": "python",
   "pygments_lexer": "ipython3",
   "version": "3.10.4"
  },
  "orig_nbformat": 4,
  "vscode": {
   "interpreter": {
    "hash": "3ad933181bd8a04b432d3370b9dc3b0662ad032c4dfaa4e4f1596c548f763858"
   }
  }
 },
 "nbformat": 4,
 "nbformat_minor": 2
}
