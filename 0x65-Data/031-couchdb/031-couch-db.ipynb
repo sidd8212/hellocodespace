{
 "cells": [
  {
   "cell_type": "code",
   "execution_count": 1,
   "metadata": {},
   "outputs": [],
   "source": [
    "import couchdb\n",
    "import json\n",
    "import datetime\n",
    "import random\n",
    "import pandas as pd\n",
    " \n"
   ]
  },
  {
   "cell_type": "code",
   "execution_count": 3,
   "metadata": {},
   "outputs": [],
   "source": [
    "# connect to couchdb    \n",
    "def connect_couchdb():\n",
    "    couch = couchdb.Server('http://localhost:5880/')\n",
    "    couch.resource.credentials = ('readwrite', 'readwrite')\n",
    "    db_name = 'testdb01'\n",
    "    if db_name in couch:\n",
    "        db = couch[db_name]\n",
    "    else:\n",
    "        db = couch.create(db_name)\n",
    "    return db\n",
    "\n",
    "database = connect_couchdb()\n"
   ]
  },
  {
   "cell_type": "code",
   "execution_count": 52,
   "metadata": {},
   "outputs": [
    {
     "name": "stdout",
     "output_type": "stream",
     "text": [
      "[\n",
      "    {\n",
      "        \"_id\": \"1677526464-791927418\",\n",
      "        \"_rev\": \"2-b15f85ef54f746f16bd76ee4add361e8\",\n",
      "        \"name\": \"John\",\n",
      "        \"age\": 30,\n",
      "        \"city\": \"New York\",\n",
      "        \"code\": \"\"\n",
      "    },\n",
      "    {\n",
      "        \"_id\": \"1677526482-278213800\",\n",
      "        \"_rev\": \"2-31f6eb75e2a934fa5473a0f36e9943ed\",\n",
      "        \"name\": \"John2\",\n",
      "        \"age\": 31,\n",
      "        \"city\": \"New York\",\n",
      "        \"code\": \"\"\n",
      "    },\n",
      "    {\n",
      "        \"_id\": \"1677526492-061522913\",\n",
      "        \"_rev\": \"2-1e86b62210e40db6bf277d4a6eb311bb\",\n",
      "        \"name\": \"John2\",\n",
      "        \"age\": 35,\n",
      "        \"city\": \"New York\",\n",
      "        \"code\": \"\"\n",
      "    },\n",
      "    {\n",
      "        \"_id\": \"1677526535-570239546\",\n",
      "        \"_rev\": \"2-a863e84c6c2dd6499b8493db8eba4419\",\n",
      "        \"name\": \"John2\",\n",
      "        \"age\": 35,\n",
      "        \"city\": \"New York\",\n",
      "        \"code\": \"M4y2p7\"\n",
      "    },\n",
      "    {\n",
      "        \"_id\": \"1677526548-296134138\",\n",
      "        \"_rev\": \"2-36f127ec4ee44a0059205a7dd63f1244\",\n",
      "        \"name\": \"John2\",\n",
      "        \"age\": 35,\n",
      "        \"city\": \"New York\",\n",
      "        \"code\": \"M4y2px\"\n",
      "    },\n",
      "    {\n",
      "        \"_id\": \"date\",\n",
      "        \"_rev\": \"2-b15f85ef54f746f16bd76ee4add361e8\",\n",
      "        \"name\": \"John\",\n",
      "        \"age\": 30,\n",
      "        \"city\": \"New York\",\n",
      "        \"code\": \"\"\n",
      "    },\n",
      "    {\n",
      "        \"_id\": \"testdoc01\",\n",
      "        \"_rev\": \"2-b15f85ef54f746f16bd76ee4add361e8\",\n",
      "        \"name\": \"John\",\n",
      "        \"age\": 30,\n",
      "        \"city\": \"New York\",\n",
      "        \"code\": \"\"\n",
      "    }\n",
      "]\n"
     ]
    }
   ],
   "source": [
    "# get all documents including doc id and fields \n",
    "\n",
    "# create a list of all documents\n",
    "list_docs = []\n",
    "\n",
    "def get_all_docs(db):\n",
    "    for doc in db:\n",
    "        #print(doc)\n",
    "        get_doc_by_id(db, doc)\n",
    "\n",
    "# get the document by id\n",
    "def get_doc_by_id(db, doc_id):\n",
    "    doc = db[doc_id]    \n",
    "    #print(doc)\n",
    "   \n",
    "    #print(doc.keys())\n",
    "    #print(doc.values())\n",
    "    #print(doc.items())\n",
    "    #print(type(doc.items()))\n",
    "    list_docs.append((doc))\n",
    "\n",
    "\n",
    "\n",
    "\n",
    "\n",
    "# get all documents\n",
    "get_all_docs(database)\n",
    "\n",
    "#print(list_docs)\n",
    "\n",
    "# print the list data as formatted json with dict   \n",
    "print(json.dumps((list_docs), indent=4))\n",
    "\n",
    "    "
   ]
  },
  {
   "cell_type": "code",
   "execution_count": 34,
   "metadata": {},
   "outputs": [
    {
     "name": "stdout",
     "output_type": "stream",
     "text": [
      "                    _id                                _rev   name  age  \\\n",
      "0  1677526464-791927418  1-60394b1a2a168f73966d520bdffa4aeb   John   30   \n",
      "1  1677526482-278213800  1-1db052943246cccf36fa84571117ac5b  John2   31   \n",
      "2  1677526492-061522913  1-d844b2d1465cf528b639f81a802bd901  John2   35   \n",
      "3  1677526535-570239546  1-12a8d8bf054a3243eb1249d51e22cd87  John2   35   \n",
      "4  1677526548-296134138  1-3d8b55a41177e9fcf3c4d620c3f6044e  John2   35   \n",
      "5                  date  1-60394b1a2a168f73966d520bdffa4aeb   John   30   \n",
      "6             testdoc01  1-60394b1a2a168f73966d520bdffa4aeb   John   30   \n",
      "\n",
      "       city    code  \n",
      "0  New York     NaN  \n",
      "1  New York     NaN  \n",
      "2  New York     NaN  \n",
      "3  New York  M4y2p7  \n",
      "4  New York  M4y2px  \n",
      "5  New York     NaN  \n",
      "6  New York     NaN  \n"
     ]
    }
   ],
   "source": [
    "# pandas load the json data into a dataframe\n",
    "df = pd.DataFrame(list_docs)\n",
    "print(df)\n"
   ]
  },
  {
   "cell_type": "code",
   "execution_count": 53,
   "metadata": {},
   "outputs": [
    {
     "name": "stdout",
     "output_type": "stream",
     "text": [
      "Empty DataFrame\n",
      "Columns: [_id, _rev, name, age, city, code]\n",
      "Index: []\n"
     ]
    }
   ],
   "source": [
    "#query the data frame where age is greater than 30\n",
    "df = df[df['age'] < 30]\n",
    "print(df)\n"
   ]
  },
  {
   "cell_type": "code",
   "execution_count": 54,
   "metadata": {},
   "outputs": [
    {
     "name": "stdout",
     "output_type": "stream",
     "text": [
      "Empty DataFrame\n",
      "Columns: [_id, _rev, name, age, city, code]\n",
      "Index: []\n"
     ]
    }
   ],
   "source": [
    "# df repace all NaN values with empty string for the code column\n",
    "df['code'] = df['code'].fillna('')\n",
    "\n",
    "\n",
    "\n",
    "# pandas dataframes query the data using the query function \n",
    "dfquery = df.query('age > 30 and code!=\"\" ')\n",
    "print(dfquery)\n",
    "\n"
   ]
  },
  {
   "cell_type": "code",
   "execution_count": 26,
   "metadata": {},
   "outputs": [
    {
     "name": "stdout",
     "output_type": "stream",
     "text": [
      "<bound method NDFrame.head of                       0\n",
      "0  1677526464-791927418\n",
      "1  1677526482-278213800\n",
      "2  1677526492-061522913\n",
      "3  1677526535-570239546\n",
      "4  1677526548-296134138\n",
      "5                  date\n",
      "6             testdoc01>\n"
     ]
    }
   ],
   "source": [
    "# get the data in pandas dataframe\n",
    "df = pd.DataFrame([doc for doc in database])\n",
    "print(df)"
   ]
  },
  {
   "cell_type": "code",
   "execution_count": 51,
   "metadata": {},
   "outputs": [],
   "source": [
    "# insert df to couchdb \n",
    "for index, row in df.iterrows():\n",
    "    out=database.save(row.to_dict())\n",
    "    print(out)\n",
    "\n"
   ]
  }
 ],
 "metadata": {
  "kernelspec": {
   "display_name": "Python 3",
   "language": "python",
   "name": "python3"
  },
  "language_info": {
   "codemirror_mode": {
    "name": "ipython",
    "version": 3
   },
   "file_extension": ".py",
   "mimetype": "text/x-python",
   "name": "python",
   "nbconvert_exporter": "python",
   "pygments_lexer": "ipython3",
   "version": "3.10.4"
  },
  "orig_nbformat": 4,
  "vscode": {
   "interpreter": {
    "hash": "3ad933181bd8a04b432d3370b9dc3b0662ad032c4dfaa4e4f1596c548f763858"
   }
  }
 },
 "nbformat": 4,
 "nbformat_minor": 2
}
