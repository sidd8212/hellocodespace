{
 "cells": [
  {
   "cell_type": "code",
   "execution_count": 1,
   "metadata": {},
   "outputs": [
    {
     "ename": "FileNotFoundError",
     "evalue": "[Errno 2] No such file or directory: 'data/01303-regex.txt'",
     "output_type": "error",
     "traceback": [
      "\u001b[0;31m---------------------------------------------------------------------------\u001b[0m",
      "\u001b[0;31mFileNotFoundError\u001b[0m                         Traceback (most recent call last)",
      "Cell \u001b[0;32mIn[1], line 4\u001b[0m\n\u001b[1;32m      1\u001b[0m \u001b[39m# example to format the SQL query\u001b[39;00m\n\u001b[1;32m      2\u001b[0m \n\u001b[1;32m      3\u001b[0m \u001b[39m# read the file as the single string\u001b[39;00m\n\u001b[0;32m----> 4\u001b[0m \u001b[39mwith\u001b[39;00m \u001b[39mopen\u001b[39;49m(\u001b[39m'\u001b[39;49m\u001b[39mdata/01303-regex.txt\u001b[39;49m\u001b[39m'\u001b[39;49m, \u001b[39m'\u001b[39;49m\u001b[39mr\u001b[39;49m\u001b[39m'\u001b[39;49m) \u001b[39mas\u001b[39;00m file:\n\u001b[1;32m      5\u001b[0m     data \u001b[39m=\u001b[39m file\u001b[39m.\u001b[39mread()\n\u001b[1;32m      6\u001b[0m \u001b[39m# print the data\u001b[39;00m\n",
      "File \u001b[0;32m~/.local/lib/python3.10/site-packages/IPython/core/interactiveshell.py:282\u001b[0m, in \u001b[0;36m_modified_open\u001b[0;34m(file, *args, **kwargs)\u001b[0m\n\u001b[1;32m    275\u001b[0m \u001b[39mif\u001b[39;00m file \u001b[39min\u001b[39;00m {\u001b[39m0\u001b[39m, \u001b[39m1\u001b[39m, \u001b[39m2\u001b[39m}:\n\u001b[1;32m    276\u001b[0m     \u001b[39mraise\u001b[39;00m \u001b[39mValueError\u001b[39;00m(\n\u001b[1;32m    277\u001b[0m         \u001b[39mf\u001b[39m\u001b[39m\"\u001b[39m\u001b[39mIPython won\u001b[39m\u001b[39m'\u001b[39m\u001b[39mt let you open fd=\u001b[39m\u001b[39m{\u001b[39;00mfile\u001b[39m}\u001b[39;00m\u001b[39m by default \u001b[39m\u001b[39m\"\u001b[39m\n\u001b[1;32m    278\u001b[0m         \u001b[39m\"\u001b[39m\u001b[39mas it is likely to crash IPython. If you know what you are doing, \u001b[39m\u001b[39m\"\u001b[39m\n\u001b[1;32m    279\u001b[0m         \u001b[39m\"\u001b[39m\u001b[39myou can use builtins\u001b[39m\u001b[39m'\u001b[39m\u001b[39m open.\u001b[39m\u001b[39m\"\u001b[39m\n\u001b[1;32m    280\u001b[0m     )\n\u001b[0;32m--> 282\u001b[0m \u001b[39mreturn\u001b[39;00m io_open(file, \u001b[39m*\u001b[39;49margs, \u001b[39m*\u001b[39;49m\u001b[39m*\u001b[39;49mkwargs)\n",
      "\u001b[0;31mFileNotFoundError\u001b[0m: [Errno 2] No such file or directory: 'data/01303-regex.txt'"
     ]
    }
   ],
   "source": [
    "# example to format the SQL query\n",
    "\n",
    "# read the file as the single string\n",
    "with open('data/01303-regex.txt', 'r') as file:\n",
    "    data = file.read()\n",
    "# print the data\n",
    "print(data)\n"
   ]
  },
  {
   "cell_type": "code",
   "execution_count": 9,
   "metadata": {},
   "outputs": [
    {
     "name": "stdout",
     "output_type": "stream",
     "text": [
      "SELECT B,CASE\n",
      "             WHEN c='d'\n",
      "                  AND m<67 THEN K\n",
      "             ELSE 'DEF'\n",
      "         END AS DB\n",
      "FROM TABLE\n",
      "WHERE id=1\n"
     ]
    }
   ],
   "source": [
    "# function to format the SQL query\n",
    "# import thr librarry for format the SQL query\n",
    "import sqlparse\n",
    "# define the function\n",
    "\n",
    "\n",
    "def format_sql_query(query):\n",
    "    # split the query into lines\n",
    "    # pass the query to the sqlparse library\n",
    "    # format function takes following parameters :  reindent=True, keyword_case='upper' wrap after 100 characters\n",
    "    #\n",
    "    return sqlparse.format(query, reindent=True, keyword_case='upper', wrap_after=180, strip_comments=True, strip_whitespace=True, indent_width=4,)\n",
    "\n",
    "\n",
    "data_inputted = \"select B,CASE when c='d' and m<67 THEN K ELSE 'DEF' END as DB from table where id=1\"\n",
    "# call the function\n",
    "sq_frmt = format_sql_query(data_inputted)\n",
    "print(sq_frmt)\n"
   ]
  },
  {
   "cell_type": "code",
   "execution_count": null,
   "metadata": {},
   "outputs": [],
   "source": [
    "# replace all the newlines with spaces\n",
    "data = data.replace('\\r\\n', ' ')\n",
    "# case where only new line exists\n",
    "data = data.replace('\\n', ' ')\n",
    "\n",
    "# replace the KEYWORD with the actual keyword   from the array\n",
    "# define the array of keywords for the SQL query\n",
    "keywords = ['SELECT', 'FROM', 'WHERE', 'GROUP BY', 'ORDER BY']\n",
    "# loop through the keywords\n",
    "for keyword in keywords:\n",
    "    # replace the keyword with the actual keyword\n",
    "    data = data.replace('KEYWORD', keyword, 1)\n"
   ]
  }
 ],
 "metadata": {
  "kernelspec": {
   "display_name": "Python 3",
   "language": "python",
   "name": "python3"
  },
  "language_info": {
   "codemirror_mode": {
    "name": "ipython",
    "version": 3
   },
   "file_extension": ".py",
   "mimetype": "text/x-python",
   "name": "python",
   "nbconvert_exporter": "python",
   "pygments_lexer": "ipython3",
   "version": "3.10.4"
  },
  "orig_nbformat": 4
 },
 "nbformat": 4,
 "nbformat_minor": 2
}
