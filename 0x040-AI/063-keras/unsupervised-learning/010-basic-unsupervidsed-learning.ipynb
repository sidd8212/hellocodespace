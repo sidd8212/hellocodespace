{
 "cells": [
  {
   "cell_type": "code",
   "execution_count": null,
   "metadata": {},
   "outputs": [],
   "source": [
    "# kera unsupervised learning - basic unsupervised learning\n",
    "# https://www.kaggle.com/learn/unsupervised-learning\n",
    "\n",
    "# 1. Introduction\n",
    "# 2. Unsupervised Learning\n",
    "# 3. Clustering\n",
    "# 4. K-Means Clustering\n",
    "# 5. Choosing K\n",
    "# 6. Evaluating Clusters\n",
    "# 7. Hierarchical Clustering\n",
    "# 8. Choosing the Number of Clusters\n",
    "# 9. Evaluating Hierarchical Clusters\n",
    "# 10. Principal Component Analysis\n",
    "# 11. Choosing the Number of Components\n",
    "# 12. Evaluating Principal Components\n",
    "# 13. Conclusion\n",
    "# 14. Next Steps\n",
    "# 15. Feedback\n",
    "\n"
   ]
  }
 ],
 "metadata": {
  "kernelspec": {
   "display_name": "Python 3",
   "language": "python",
   "name": "python3"
  },
  "language_info": {
   "name": "python",
   "version": "3.10.4"
  },
  "orig_nbformat": 4,
  "vscode": {
   "interpreter": {
    "hash": "3ad933181bd8a04b432d3370b9dc3b0662ad032c4dfaa4e4f1596c548f763858"
   }
  }
 },
 "nbformat": 4,
 "nbformat_minor": 2
}
